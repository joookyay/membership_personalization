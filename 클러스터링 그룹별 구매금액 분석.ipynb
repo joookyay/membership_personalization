{
 "cells": [
  {
   "cell_type": "code",
   "execution_count": 2,
   "metadata": {},
   "outputs": [],
   "source": [
    "import pandas as pd\n",
    "import numpy as np\n",
    "import matplotlib.pyplot as plt\n",
    "import seaborn as sns"
   ]
  },
  {
   "cell_type": "code",
   "execution_count": 12,
   "metadata": {},
   "outputs": [],
   "source": [
    "import warnings\n",
    "warnings.filterwarnings(action='ignore')"
   ]
  },
  {
   "cell_type": "code",
   "execution_count": 13,
   "metadata": {},
   "outputs": [],
   "source": [
    "#데이터 불러오기\n",
    "\n",
    "X = pd.read_csv(r\"kmeans_df.csv\")\n",
    "\n",
    "df1 = pd.read_csv(r\"LPOINT_BIG_COMP_01_DEMO.csv\")\n",
    "df2 = pd.read_csv(r\"LPOINT_BIG_COMP_02_PDDE.csv\")\n",
    "df3 = pd.read_csv(r\"LPOINT_BIG_COMP_03_COP_U.csv\")\n",
    "df4 = pd.read_csv(r\"LPOINT_BIG_COMP_04_PD_CLAC.csv\")\n",
    "df5 = pd.read_csv(r\"LPOINT_BIG_COMP_05_BR.csv\")\n",
    "df6 = pd.read_csv(r\"LPOINT_BIG_COMP_06_LPAY.csv\")"
   ]
  },
  {
   "cell_type": "code",
   "execution_count": 8,
   "metadata": {},
   "outputs": [],
   "source": [
    "#데이터 합치기 상품구매정보 + 상품분류정보\n",
    "\n",
    "df_com= pd.merge(df2, df4, left_on='pd_c', right_on='pd_c', how='left')"
   ]
  },
  {
   "cell_type": "code",
   "execution_count": 5,
   "metadata": {},
   "outputs": [
    {
     "data": {
      "text/plain": [
       "cust                 0\n",
       "rct_no               0\n",
       "chnl_dv              0\n",
       "cop_c                0\n",
       "br_c            428501\n",
       "pd_c                 0\n",
       "de_dt                0\n",
       "de_hr                0\n",
       "buy_am               0\n",
       "buy_ct               0\n",
       "pd_nm                0\n",
       "clac_hlv_nm          0\n",
       "clac_mcls_nm         0\n",
       "dtype: int64"
      ]
     },
     "execution_count": 5,
     "metadata": {},
     "output_type": "execute_result"
    }
   ],
   "source": [
    "#null값 확인\n",
    "\n",
    "df_com.isnull().sum()"
   ]
  },
  {
   "cell_type": "code",
   "execution_count": 14,
   "metadata": {},
   "outputs": [],
   "source": [
    "#클러스터링 그룹별 상품구매정보 구매금액 총 합\n",
    "cust_0 = X['cust'][X.clustering == 0]\n",
    "amt_0= df_com['buy_am'][df_com['cust'].isin(cust_0)].sum()\n",
    "\n",
    "cust_1 = X['cust'][X.clustering == 1]\n",
    "amt_1= df_com['buy_am'][df_com['cust'].isin(cust_1)].sum()\n",
    "\n",
    "cust_2 = X['cust'][X.clustering == 2]\n",
    "amt_2= df_com['buy_am'][df_com['cust'].isin(cust_2)].sum()\n",
    "\n",
    "cust_3 = X['cust'][X.clustering == 3]\n",
    "amt_3= df_com['buy_am'][df_com['cust'].isin(cust_3)].sum()"
   ]
  },
  {
   "cell_type": "code",
   "execution_count": 17,
   "metadata": {
    "scrolled": false
   },
   "outputs": [
    {
     "data": {
      "text/html": [
       "<div>\n",
       "<style scoped>\n",
       "    .dataframe tbody tr th:only-of-type {\n",
       "        vertical-align: middle;\n",
       "    }\n",
       "\n",
       "    .dataframe tbody tr th {\n",
       "        vertical-align: top;\n",
       "    }\n",
       "\n",
       "    .dataframe thead th {\n",
       "        text-align: right;\n",
       "    }\n",
       "</style>\n",
       "<table border=\"1\" class=\"dataframe\">\n",
       "  <thead>\n",
       "    <tr style=\"text-align: right;\">\n",
       "      <th></th>\n",
       "      <th>총 금액</th>\n",
       "    </tr>\n",
       "  </thead>\n",
       "  <tbody>\n",
       "    <tr>\n",
       "      <th>cust_0</th>\n",
       "      <td>13289171624.00000</td>\n",
       "    </tr>\n",
       "    <tr>\n",
       "      <th>cust_1</th>\n",
       "      <td>19515522501.00000</td>\n",
       "    </tr>\n",
       "    <tr>\n",
       "      <th>cust_2</th>\n",
       "      <td>15036631784.00000</td>\n",
       "    </tr>\n",
       "    <tr>\n",
       "      <th>cust_3</th>\n",
       "      <td>7530513224.00000</td>\n",
       "    </tr>\n",
       "  </tbody>\n",
       "</table>\n",
       "</div>"
      ],
      "text/plain": [
       "                    총 금액\n",
       "cust_0 13289171624.00000\n",
       "cust_1 19515522501.00000\n",
       "cust_2 15036631784.00000\n",
       "cust_3  7530513224.00000"
      ]
     },
     "execution_count": 17,
     "metadata": {},
     "output_type": "execute_result"
    }
   ],
   "source": [
    "#데이터프레임화\n",
    "\n",
    "pd.options.display.float_format = '{:.5f}'.format\n",
    "\n",
    "df_com_0 = pd.DataFrame({'cust_0': amt_0},  index = [0])\n",
    "df_com_1 = pd.DataFrame({'cust_1': amt_1},  index = [0])\n",
    "df_com_2 = pd.DataFrame({'cust_2': amt_2},  index = [0])\n",
    "df_com_3 = pd.DataFrame({'cust_3': amt_3},  index = [0])\n",
    "\n",
    "df_com_to = pd.concat([df_com_0, df_com_1,df_com_2, df_com_3], axis = 1)\n",
    "\n",
    "\n",
    "df_com_to = df_com_to.transpose()\n",
    "df_com_to.columns = ['총 금액']\n",
    "df_com_to"
   ]
  },
  {
   "cell_type": "code",
   "execution_count": 18,
   "metadata": {},
   "outputs": [
    {
     "name": "stderr",
     "output_type": "stream",
     "text": [
      "findfont: Font family ['AppleGothic'] not found. Falling back to DejaVu Sans.\n"
     ]
    },
    {
     "data": {
      "image/png": "[encoded data removed]",
      "text/plain": [
       "<Figure size 432x288 with 1 Axes>"
      ]
     },
     "metadata": {
      "needs_background": "light"
     },
     "output_type": "display_data"
    }
   ],
   "source": [
    "#클러스터링 그룹별 상품구매정보 구매금액 총 합 그래프\n",
    "\n",
    "y_sum = [amt_0, amt_1, amt_2, amt_3]\n",
    "x_sum = ['그룹 1', '그룹 2', '그룹 3', '그룹 4']\n",
    "\n",
    "plt.bar(x_sum , y_sum)\n",
    "plt.show()"
   ]
  },
  {
   "cell_type": "code",
   "execution_count": 19,
   "metadata": {},
   "outputs": [],
   "source": [
    "#클러스터링 그룹별 평균 구매 금액\n",
    "\n",
    "amt0 = amt_0 / len(cust_0)\n",
    "amt1 = amt_1 / len(cust_1)\n",
    "amt2 = amt_2 / len(cust_2)\n",
    "amt3 = amt_3 / len(cust_3)"
   ]
  },
  {
   "cell_type": "code",
   "execution_count": 20,
   "metadata": {},
   "outputs": [
    {
     "data": {
      "text/html": [
       "<div>\n",
       "<style scoped>\n",
       "    .dataframe tbody tr th:only-of-type {\n",
       "        vertical-align: middle;\n",
       "    }\n",
       "\n",
       "    .dataframe tbody tr th {\n",
       "        vertical-align: top;\n",
       "    }\n",
       "\n",
       "    .dataframe thead th {\n",
       "        text-align: right;\n",
       "    }\n",
       "</style>\n",
       "<table border=\"1\" class=\"dataframe\">\n",
       "  <thead>\n",
       "    <tr style=\"text-align: right;\">\n",
       "      <th></th>\n",
       "      <th>평균 구매 금액</th>\n",
       "    </tr>\n",
       "  </thead>\n",
       "  <tbody>\n",
       "    <tr>\n",
       "      <th>cust_0</th>\n",
       "      <td>4709132.39688</td>\n",
       "    </tr>\n",
       "    <tr>\n",
       "      <th>cust_1</th>\n",
       "      <td>5869330.07549</td>\n",
       "    </tr>\n",
       "    <tr>\n",
       "      <th>cust_2</th>\n",
       "      <td>8390977.55804</td>\n",
       "    </tr>\n",
       "    <tr>\n",
       "      <th>cust_3</th>\n",
       "      <td>8509054.49040</td>\n",
       "    </tr>\n",
       "  </tbody>\n",
       "</table>\n",
       "</div>"
      ],
      "text/plain": [
       "            평균 구매 금액\n",
       "cust_0 4709132.39688\n",
       "cust_1 5869330.07549\n",
       "cust_2 8390977.55804\n",
       "cust_3 8509054.49040"
      ]
     },
     "execution_count": 20,
     "metadata": {},
     "output_type": "execute_result"
    }
   ],
   "source": [
    "#데이터프레임화\n",
    "\n",
    "df_com0 = pd.DataFrame({'cust_0': amt0},  index = [0])\n",
    "df_com1 = pd.DataFrame({'cust_1': amt1},  index = [0])\n",
    "df_com2 = pd.DataFrame({'cust_2': amt2},  index = [0])\n",
    "df_com3 = pd.DataFrame({'cust_3': amt3},  index = [0])\n",
    "\n",
    "\n",
    "df_com_tog = pd.concat([df_com0, df_com1,df_com2, df_com3], axis = 1)\n",
    "\n",
    "df_com_tog = df_com_tog.transpose()\n",
    "df_com_tog.columns = ['평균 구매 금액']\n",
    "df_com_tog\n",
    "\n"
   ]
  },
  {
   "cell_type": "code",
   "execution_count": 21,
   "metadata": {},
   "outputs": [
    {
     "data": {
      "image/png": "[encoded data removed]",
      "text/plain": [
       "<Figure size 432x288 with 1 Axes>"
      ]
     },
     "metadata": {
      "needs_background": "light"
     },
     "output_type": "display_data"
    }
   ],
   "source": [
    "#클러스터링 그룹별 상품구매정보 구매금액 평균 합 그래프\n",
    "\n",
    "y_mean = [amt0, amt1, amt2, amt3]\n",
    "x_sum = ['그룹 1', '그룹 2', '그룹 3', '그룹 4']\n",
    "\n",
    "plt.bar(x_sum , y_sum)\n",
    "plt.show()"
   ]
  }
 ],
 "metadata": {
  "kernelspec": {
   "display_name": "Python 3",
   "language": "python",
   "name": "python3"
  },
  "language_info": {
   "codemirror_mode": {
    "name": "ipython",
    "version": 3
   },
   "file_extension": ".py",
   "mimetype": "text/x-python",
   "name": "python",
   "nbconvert_exporter": "python",
   "pygments_lexer": "ipython3",
   "version": "3.6.5"
  }
 },
 "nbformat": 4,
 "nbformat_minor": 5
}
